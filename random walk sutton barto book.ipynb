{
 "cells": [
  {
   "cell_type": "code",
   "execution_count": 384,
   "metadata": {},
   "outputs": [],
   "source": [
    "import numpy as np\n",
    "import random\n",
    "\n",
    "A = np.array(\n",
    "    (\n",
    "        (1, -1/2, 0, 0, 0),\n",
    "        (-1/2, 1, -1/2, 0, 0),\n",
    "        (0, -1/2, 1, -1/2, 0),\n",
    "        (0, 0, -1/2, 1, -1/2),\n",
    "        (0, 0, 0, -1/2, 1)\n",
    "    )\n",
    ")\n",
    "\n",
    "b = np.array(\n",
    "    (0, 0, 0, 0, 1/2)\n",
    ")\n",
    "\n",
    "A_inv = np.linalg.inv(A)\n",
    "\n",
    "x = A_inv.dot(b)"
   ]
  },
  {
   "cell_type": "code",
   "execution_count": 385,
   "metadata": {},
   "outputs": [
    {
     "data": {
      "text/plain": [
       "array([0.16666667, 0.33333333, 0.5       , 0.66666667, 0.83333333])"
      ]
     },
     "execution_count": 385,
     "metadata": {},
     "output_type": "execute_result"
    }
   ],
   "source": [
    "x"
   ]
  },
  {
   "cell_type": "code",
   "execution_count": 386,
   "metadata": {},
   "outputs": [],
   "source": [
    "# solve the above using a V matrix"
   ]
  },
  {
   "cell_type": "code",
   "execution_count": 387,
   "metadata": {},
   "outputs": [],
   "source": [
    "V = np.array(\n",
    "    (0, 0, 0, 0, 0), dtype=float\n",
    ")\n",
    "\n",
    "reachable_state = np.array(\n",
    "    (\n",
    "        (0, 1, 0, 0, 0),\n",
    "        (1, 0, 1, 0, 0),\n",
    "        (0, 1, 0, 1, 0),\n",
    "        (0, 0, 1, 0, 1),\n",
    "        (0, 0, 0, 1, 0),\n",
    "    )\n",
    ")\n",
    "\n",
    "r = np.array(\n",
    "    (0, 0, 0, 0, 1), \n",
    ")"
   ]
  },
  {
   "cell_type": "code",
   "execution_count": 388,
   "metadata": {},
   "outputs": [],
   "source": [
    "#can only go right, not left\n",
    "#stop at the end\n",
    "s = 0\n",
    "\n",
    "for i in range(10):\n",
    "    new_s = s + 1"
   ]
  },
  {
   "cell_type": "code",
   "execution_count": 389,
   "metadata": {},
   "outputs": [
    {
     "data": {
      "text/plain": [
       "array([0, 1, 0, 0, 0])"
      ]
     },
     "execution_count": 389,
     "metadata": {},
     "output_type": "execute_result"
    }
   ],
   "source": [
    "reachable_state[0]"
   ]
  },
  {
   "cell_type": "code",
   "execution_count": 390,
   "metadata": {
    "scrolled": true
   },
   "outputs": [],
   "source": [
    "alpha = 1\n",
    "gamma = 1\n",
    "\n",
    "for episode in range(1000):\n",
    "    s = 3\n",
    "    while True:\n",
    "        a = random.choice((-1, 1))\n",
    "        new_s = s + a\n",
    "        reward = r[new_s]\n",
    "        V[s] = V[s] + alpha*(reward + gamma*V[new_s] - V[s]) # fix this logic\n",
    "        s = new_s\n",
    "        if s < 0:\n",
    "            break\n",
    "        if s == 4:\n",
    "            break"
   ]
  },
  {
   "cell_type": "code",
   "execution_count": 391,
   "metadata": {},
   "outputs": [
    {
     "data": {
      "text/plain": [
       "array([1., 1., 1., 1., 0.])"
      ]
     },
     "execution_count": 391,
     "metadata": {},
     "output_type": "execute_result"
    }
   ],
   "source": [
    "np.round(V, 2)"
   ]
  },
  {
   "cell_type": "code",
   "execution_count": 392,
   "metadata": {},
   "outputs": [
    {
     "data": {
      "text/plain": [
       "0.16666666666666666"
      ]
     },
     "execution_count": 392,
     "metadata": {},
     "output_type": "execute_result"
    }
   ],
   "source": [
    "1/6"
   ]
  },
  {
   "cell_type": "code",
   "execution_count": 393,
   "metadata": {},
   "outputs": [
    {
     "data": {
      "text/plain": [
       "0.3333333333333333"
      ]
     },
     "execution_count": 393,
     "metadata": {},
     "output_type": "execute_result"
    }
   ],
   "source": [
    "2/6"
   ]
  },
  {
   "cell_type": "code",
   "execution_count": 394,
   "metadata": {},
   "outputs": [
    {
     "data": {
      "text/plain": [
       "0.5"
      ]
     },
     "execution_count": 394,
     "metadata": {},
     "output_type": "execute_result"
    }
   ],
   "source": [
    "3/6"
   ]
  },
  {
   "cell_type": "code",
   "execution_count": 395,
   "metadata": {},
   "outputs": [
    {
     "data": {
      "text/plain": [
       "0.6666666666666666"
      ]
     },
     "execution_count": 395,
     "metadata": {},
     "output_type": "execute_result"
    }
   ],
   "source": [
    "4/6"
   ]
  },
  {
   "cell_type": "code",
   "execution_count": 396,
   "metadata": {},
   "outputs": [
    {
     "data": {
      "text/plain": [
       "0.8333333333333334"
      ]
     },
     "execution_count": 396,
     "metadata": {},
     "output_type": "execute_result"
    }
   ],
   "source": [
    "5/6"
   ]
  },
  {
   "cell_type": "code",
   "execution_count": null,
   "metadata": {},
   "outputs": [],
   "source": []
  }
 ],
 "metadata": {
  "kernelspec": {
   "display_name": "Python 3",
   "language": "python",
   "name": "python3"
  },
  "language_info": {
   "codemirror_mode": {
    "name": "ipython",
    "version": 3
   },
   "file_extension": ".py",
   "mimetype": "text/x-python",
   "name": "python",
   "nbconvert_exporter": "python",
   "pygments_lexer": "ipython3",
   "version": "3.8.5"
  }
 },
 "nbformat": 4,
 "nbformat_minor": 4
}
