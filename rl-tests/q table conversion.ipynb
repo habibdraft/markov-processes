{
 "cells": [
  {
   "cell_type": "code",
   "execution_count": 1,
   "id": "f1751af7",
   "metadata": {},
   "outputs": [],
   "source": [
    "import gymnasium as gym\n",
    "import math\n",
    "import random\n",
    "import matplotlib\n",
    "import matplotlib.pyplot as plt\n",
    "from collections import namedtuple, deque\n",
    "from itertools import count\n",
    "import numpy as np\n",
    "\n",
    "env = gym.make('CartPole-v1')\n",
    "\n",
    "# set up matplotlib\n",
    "is_ipython = 'inline' in matplotlib.get_backend()\n",
    "if is_ipython:\n",
    "    from IPython import display\n",
    "\n",
    "plt.ion()\n",
    "\n",
    "import tensorflow as tf\n",
    "from tensorflow import keras\n",
    "from tensorflow.keras import layers"
   ]
  },
  {
   "cell_type": "code",
   "execution_count": 2,
   "id": "28f944e6",
   "metadata": {},
   "outputs": [],
   "source": [
    "def create_model(num_observations, num_hidden, num_actions):\n",
    "    observations = layers.Input(shape=(num_observations,))\n",
    "    hidden = layers.Dense(num_hidden, activation='relu')(observations)\n",
    "    action = layers.Dense(num_actions, activation='softmax')(hidden)\n",
    "    \n",
    "    return keras.Model(inputs=observations, outputs=action)"
   ]
  },
  {
   "cell_type": "code",
   "execution_count": 3,
   "id": "4c3727d5",
   "metadata": {},
   "outputs": [],
   "source": [
    "model = create_model(4, 128, 2)"
   ]
  },
  {
   "cell_type": "code",
   "execution_count": 4,
   "id": "755eb95e",
   "metadata": {},
   "outputs": [
    {
     "data": {
      "text/plain": [
       "<tf.Tensor: shape=(1, 2), dtype=float32, numpy=array([[0.4966027, 0.5033973]], dtype=float32)>"
      ]
     },
     "execution_count": 4,
     "metadata": {},
     "output_type": "execute_result"
    }
   ],
   "source": [
    "state = np.array(env.reset()[0])\n",
    "state_tensor = tf.convert_to_tensor(state)\n",
    "state_tensor = tf.expand_dims(state_tensor, 0)\n",
    "action_probs = model(state_tensor, training=False)\n",
    "action_probs"
   ]
  },
  {
   "cell_type": "code",
   "execution_count": 5,
   "id": "a3587aac",
   "metadata": {},
   "outputs": [],
   "source": [
    "action_history = []\n",
    "state_history = []\n",
    "state_next_history = []\n",
    "done_history = []\n",
    "rewards_history = []\n",
    "\n",
    "epsilon = 0.9\n",
    "epsilon_decay = 0.99\n",
    "gamma = 0.7\n",
    "alpha = 0.7"
   ]
  },
  {
   "cell_type": "code",
   "execution_count": 6,
   "id": "abc0974e",
   "metadata": {},
   "outputs": [],
   "source": [
    "done = False\n",
    "\n",
    "for timestep in range(100):\n",
    "    state_tensor = tf.convert_to_tensor(state)\n",
    "    state_tensor = tf.expand_dims(state_tensor, 0)\n",
    "    action_probs = model(state_tensor, training=False)\n",
    "    action = tf.argmax(action_probs[0]).numpy()\n",
    "\n",
    "    state_next, reward, done, _, _ = env.step(action)\n",
    "    state_next = np.array(state_next)\n",
    "\n",
    "    epsilon *= epsilon_decay\n",
    "\n",
    "    action_history.append(action)\n",
    "    state_history.append(state)\n",
    "    state_next_history.append(state_next)\n",
    "    done_history.append(done)\n",
    "    rewards_history.append(reward)\n",
    "\n",
    "    state = state_next\n",
    "    \n",
    "    if done:\n",
    "        break"
   ]
  },
  {
   "cell_type": "code",
   "execution_count": null,
   "id": "34400ba2",
   "metadata": {},
   "outputs": [],
   "source": []
  },
  {
   "cell_type": "code",
   "execution_count": 11,
   "id": "082ff8b2",
   "metadata": {},
   "outputs": [],
   "source": [
    "loss_function = keras.losses.Huber()\n",
    "optimizer = keras.optimizers.Adam(learning_rate=0.00025, clipnorm=1.0)"
   ]
  },
  {
   "cell_type": "code",
   "execution_count": 16,
   "id": "6b213719",
   "metadata": {},
   "outputs": [
    {
     "name": "stdout",
     "output_type": "stream",
     "text": [
      "4/4 [==============================] - 0s 997us/step\n",
      "4/4 [==============================] - 0s 997us/step\n",
      "tf.Tensor(0.36065894, shape=(), dtype=float32)\n"
     ]
    }
   ],
   "source": [
    "indices = np.random.choice(range(len(done_history)), size=128)\n",
    "\n",
    "state_sample = np.array([state_history[i] for i in indices])\n",
    "state_next_sample = np.array([state_next_history[i] for i in indices])\n",
    "rewards_sample = [rewards_history[i] for i in indices]\n",
    "action_sample = [action_history[i] for i in indices]\n",
    "\n",
    "next_q_values = model.predict(state_next_sample)\n",
    "next_q_values = rewards_sample + gamma * tf.reduce_max(next_q_values, axis=1)\n",
    "masks = tf.one_hot(action_sample, 2)\n",
    "\n",
    "predicted_q_values = model.predict(state_sample)\n",
    "predicted_q_values = tf.reduce_sum(tf.multiply(predicted_q_values, masks), axis=1)\n",
    "loss = loss_function(next_q_values, predicted_q_values)\n",
    "print(loss)"
   ]
  },
  {
   "cell_type": "code",
   "execution_count": null,
   "id": "d27f19dc",
   "metadata": {},
   "outputs": [],
   "source": []
  },
  {
   "cell_type": "code",
   "execution_count": null,
   "id": "72a014c7",
   "metadata": {},
   "outputs": [],
   "source": []
  },
  {
   "cell_type": "code",
   "execution_count": null,
   "id": "bf5b429d",
   "metadata": {},
   "outputs": [],
   "source": []
  },
  {
   "cell_type": "code",
   "execution_count": null,
   "id": "1d2848c3",
   "metadata": {},
   "outputs": [],
   "source": []
  },
  {
   "cell_type": "code",
   "execution_count": null,
   "id": "56a79ce2",
   "metadata": {},
   "outputs": [],
   "source": []
  },
  {
   "cell_type": "code",
   "execution_count": null,
   "id": "585d67a8",
   "metadata": {},
   "outputs": [],
   "source": []
  },
  {
   "cell_type": "code",
   "execution_count": null,
   "id": "b83a3b56",
   "metadata": {},
   "outputs": [],
   "source": []
  },
  {
   "cell_type": "code",
   "execution_count": null,
   "id": "30c48c59",
   "metadata": {},
   "outputs": [],
   "source": []
  },
  {
   "cell_type": "code",
   "execution_count": null,
   "id": "39055bb4-440b-4fa5-b22a-5cae826d87fd",
   "metadata": {},
   "outputs": [],
   "source": []
  }
 ],
 "metadata": {
  "kernelspec": {
   "display_name": "Python 3 (ipykernel)",
   "language": "python",
   "name": "python3"
  },
  "language_info": {
   "codemirror_mode": {
    "name": "ipython",
    "version": 3
   },
   "file_extension": ".py",
   "mimetype": "text/x-python",
   "name": "python",
   "nbconvert_exporter": "python",
   "pygments_lexer": "ipython3",
   "version": "3.10.12"
  }
 },
 "nbformat": 4,
 "nbformat_minor": 5
}
