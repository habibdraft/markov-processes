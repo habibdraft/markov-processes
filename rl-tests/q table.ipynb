{
 "cells": [
  {
   "cell_type": "code",
   "execution_count": 60,
   "id": "f1751af7",
   "metadata": {},
   "outputs": [],
   "source": [
    "import gymnasium as gym\n",
    "import math\n",
    "import random\n",
    "import matplotlib\n",
    "import matplotlib.pyplot as plt\n",
    "from collections import namedtuple, deque\n",
    "from itertools import count\n",
    "import numpy as np\n",
    "\n",
    "env = gym.make('CartPole-v1')\n",
    "\n",
    "# set up matplotlib\n",
    "is_ipython = 'inline' in matplotlib.get_backend()\n",
    "if is_ipython:\n",
    "    from IPython import display\n",
    "\n",
    "plt.ion()\n",
    "\n",
    "import tensorflow as tf\n",
    "from tensorflow import keras\n",
    "from tensorflow.keras import layers"
   ]
  },
  {
   "cell_type": "code",
   "execution_count": 61,
   "id": "755eb95e",
   "metadata": {},
   "outputs": [],
   "source": [
    "# define state space and action space"
   ]
  },
  {
   "cell_type": "code",
   "execution_count": null,
   "id": "abc0974e",
   "metadata": {},
   "outputs": [],
   "source": []
  },
  {
   "cell_type": "code",
   "execution_count": 62,
   "id": "bcc4047d",
   "metadata": {},
   "outputs": [],
   "source": [
    "def take_action(state):\n",
    "    if random.random() < epsilon:\n",
    "        next_state = random.choice(states)\n",
    "    else:\n",
    "        next_state = q[state].index(max(q[state]))\n",
    "    reward = r[state][next_state]\n",
    "    return next_state, reward\n",
    "\n",
    "def update_q_table(state, next_state):\n",
    "    max_q = max(q[state])\n",
    "    current_q = q[state][next_state]\n",
    "    current_q += 0.7 * (reward + 0.7 * max_q - current_q)\n",
    "    return current_q"
   ]
  },
  {
   "cell_type": "code",
   "execution_count": 63,
   "id": "a51c31b3",
   "metadata": {},
   "outputs": [],
   "source": [
    "import copy\n",
    "\n",
    "states = [i for i in range(3)]\n",
    "q = {0: [0, 0, 0], 1: [0, 0, 0], 2: [0, 0, 0]}\n",
    "r = {0: [3, -3, -11], 1: [5, 2, -1], 2: [1, -1, 8]}\n",
    "state = random.choice(states)\n",
    "epsilon = 0.9\n",
    "epsilon_decay = 0.9\n",
    "\n",
    "while True:\n",
    "    prev_q = copy.deepcopy(q)\n",
    "    next_state, reward = take_action(state)\n",
    "    q[state][next_state] = update_q_table(state, next_state)\n",
    "    state = next_state\n",
    "    if prev_q == q:\n",
    "        break"
   ]
  },
  {
   "cell_type": "code",
   "execution_count": 64,
   "id": "a0b2b5c0",
   "metadata": {},
   "outputs": [
    {
     "data": {
      "text/plain": [
       "{0: [9.999999999999952, 3.9999999999999627, -4.000000000000043],\n",
       " 1: [16.66666666666563, 13.666666666665805, 10.666666666665305],\n",
       " 2: [19.666666666666654, 17.666666666666647, 26.66666666666665]}"
      ]
     },
     "execution_count": 64,
     "metadata": {},
     "output_type": "execute_result"
    }
   ],
   "source": [
    "q"
   ]
  },
  {
   "cell_type": "code",
   "execution_count": null,
   "id": "a8314f7d",
   "metadata": {},
   "outputs": [],
   "source": [
    "#what do these numbers represent in a function? \n",
    "#how do you translate this into a neural network?"
   ]
  },
  {
   "cell_type": "code",
   "execution_count": null,
   "id": "25383368",
   "metadata": {},
   "outputs": [],
   "source": [
    "#implement neural network"
   ]
  },
  {
   "cell_type": "code",
   "execution_count": null,
   "id": "585d67a8",
   "metadata": {},
   "outputs": [],
   "source": [
    "current_q = model(state_sample)"
   ]
  },
  {
   "cell_type": "code",
   "execution_count": null,
   "id": "b83a3b56",
   "metadata": {},
   "outputs": [],
   "source": []
  },
  {
   "cell_type": "code",
   "execution_count": null,
   "id": "30c48c59",
   "metadata": {},
   "outputs": [],
   "source": []
  },
  {
   "cell_type": "code",
   "execution_count": null,
   "id": "39055bb4-440b-4fa5-b22a-5cae826d87fd",
   "metadata": {},
   "outputs": [],
   "source": []
  }
 ],
 "metadata": {
  "kernelspec": {
   "display_name": "Python 3 (ipykernel)",
   "language": "python",
   "name": "python3"
  },
  "language_info": {
   "codemirror_mode": {
    "name": "ipython",
    "version": 3
   },
   "file_extension": ".py",
   "mimetype": "text/x-python",
   "name": "python",
   "nbconvert_exporter": "python",
   "pygments_lexer": "ipython3",
   "version": "3.10.12"
  }
 },
 "nbformat": 4,
 "nbformat_minor": 5
}
