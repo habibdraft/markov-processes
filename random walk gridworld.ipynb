{
 "cells": [
  {
   "cell_type": "code",
   "execution_count": 9,
   "id": "36aaa83d-13ba-4fd2-88d1-a7d605ec39a9",
   "metadata": {},
   "outputs": [
    {
     "data": {
      "text/html": [
       "<style>.container { width:100% !important; }</style>"
      ],
      "text/plain": [
       "<IPython.core.display.HTML object>"
      ]
     },
     "metadata": {},
     "output_type": "display_data"
    }
   ],
   "source": [
    "from IPython.display import display, HTML\n",
    "display(HTML(\"<style>.container { width:100% !important; }</style>\"))"
   ]
  },
  {
   "cell_type": "code",
   "execution_count": 10,
   "id": "904a1d38",
   "metadata": {},
   "outputs": [],
   "source": [
    "import numpy as np\n",
    "import matplotlib.pyplot as plt\n",
    "import math\n",
    "import pandas as pd\n",
    "import torch\n",
    "import random"
   ]
  },
  {
   "cell_type": "code",
   "execution_count": 11,
   "id": "4263c691",
   "metadata": {},
   "outputs": [],
   "source": [
    "A = np.array(\n",
    "    (\n",
    "        (1, -1/2, 0, 0, 0, 0, 0, 0), \n",
    "        (1/2, -1, 1/2, 0, 0, 0, 0, 0),\n",
    "        (0, 1/2, -1, 1/2, 0, 0, 0, 0),\n",
    "        (0, 0, 1/3, -1, 1/3, 0, 0, 0),\n",
    "        (0, 0, 0, 1/3, -1, 0, 1/3, 0),\n",
    "        (0, 0, 0, 0, 0, -1, 1/2, 0),\n",
    "        (0, 0, 0, 0, 1/3, 1/3, -1, 1/3),\n",
    "        (0, 0, 0, 0, 0, 0, 1/2, -1)\n",
    "    )\n",
    ")"
   ]
  },
  {
   "cell_type": "code",
   "execution_count": 12,
   "id": "2dd66a3f",
   "metadata": {},
   "outputs": [],
   "source": [
    "b = np.array((0, 0, 0, -1/3, 1/3, 0, 0, 1/2))"
   ]
  },
  {
   "cell_type": "code",
   "execution_count": 13,
   "id": "f26d6de2",
   "metadata": {},
   "outputs": [
    {
     "data": {
      "text/plain": [
       "array([ 0.06756757,  0.13513514,  0.2027027 ,  0.27027027, -0.39189189,\n",
       "       -0.22297297, -0.44594595, -0.72297297])"
      ]
     },
     "execution_count": 13,
     "metadata": {},
     "output_type": "execute_result"
    }
   ],
   "source": [
    "V = np.linalg.inv(A).dot(b)\n",
    "V"
   ]
  },
  {
   "cell_type": "code",
   "execution_count": 14,
   "id": "9756682f",
   "metadata": {},
   "outputs": [
    {
     "data": {
      "text/plain": [
       "array([ 0.06744991,  0.13489981,  0.20234972,  0.26979963, -0.38477509,\n",
       "       -0.21789237, -0.43578474, -0.71789237])"
      ]
     },
     "execution_count": 14,
     "metadata": {},
     "output_type": "execute_result"
    }
   ],
   "source": [
    "V = np.array(\n",
    "    (0, 0, 0, 0, 0, 0, 0, 0), dtype=float\n",
    ")\n",
    "\n",
    "r = np.array(\n",
    "    (1, -10, -2, -1, 1), dtype=float \n",
    ")\n",
    "\n",
    "for i in range(100):\n",
    "    V[7] = .5*(V[6] - 1)\n",
    "    V[6] = .33*(V[4] + V[5] + V[7])\n",
    "    V[5] = .5*(0 + V[6])\n",
    "    V[4] = .33*(V[3] + V[6] - 1)\n",
    "    V[3] = .33*(V[2] + V[4] + 1)\n",
    "    V[2] = .5*(V[1] + V[3])\n",
    "    V[1] = .5*(V[0] + V[2])\n",
    "    V[0] = .5*(0 + V[1])\n",
    "V"
   ]
  },
  {
   "cell_type": "code",
   "execution_count": null,
   "id": "e639faef",
   "metadata": {},
   "outputs": [],
   "source": []
  }
 ],
 "metadata": {
  "kernelspec": {
   "display_name": "Python 3 (ipykernel)",
   "language": "python",
   "name": "python3"
  },
  "language_info": {
   "codemirror_mode": {
    "name": "ipython",
    "version": 3
   },
   "file_extension": ".py",
   "mimetype": "text/x-python",
   "name": "python",
   "nbconvert_exporter": "python",
   "pygments_lexer": "ipython3",
   "version": "3.10.12"
  }
 },
 "nbformat": 4,
 "nbformat_minor": 5
}
