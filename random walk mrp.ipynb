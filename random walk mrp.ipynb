{
 "cells": [
  {
   "cell_type": "code",
   "execution_count": 49,
   "id": "67233379-9b1f-497f-9312-682e651d2dc6",
   "metadata": {},
   "outputs": [
    {
     "data": {
      "text/html": [
       "<style>.container { width:100% !important; }</style>"
      ],
      "text/plain": [
       "<IPython.core.display.HTML object>"
      ]
     },
     "metadata": {},
     "output_type": "display_data"
    }
   ],
   "source": [
    "from IPython.display import display, HTML\n",
    "display(HTML(\"<style>.container { width:100% !important; }</style>\"))"
   ]
  },
  {
   "cell_type": "code",
   "execution_count": 50,
   "id": "0454aea0",
   "metadata": {},
   "outputs": [],
   "source": [
    "import numpy as np\n",
    "import random"
   ]
  },
  {
   "cell_type": "code",
   "execution_count": 51,
   "id": "595a5992",
   "metadata": {},
   "outputs": [],
   "source": [
    "A = np.array(\n",
    "    (\n",
    "        (1, -1/2, 0, 0, 0),\n",
    "        (-1/2, 1, -1/2, 0, 0),\n",
    "        (0, -1/2, 1, -1/2, 0),\n",
    "        (0, 0, -1/2, 1, -1/2),\n",
    "        (0, 0, 0, -1/2, 1)\n",
    "    )\n",
    ")\n",
    "\n",
    "b = np.array(\n",
    "    (0, 0, 0, 0, 1/2)\n",
    ")\n",
    "\n",
    "A_inv = np.linalg.inv(A)\n",
    "\n",
    "V = A_inv.dot(b)"
   ]
  },
  {
   "cell_type": "code",
   "execution_count": 52,
   "id": "9045c34c",
   "metadata": {},
   "outputs": [
    {
     "data": {
      "text/plain": [
       "array([0.16666667, 0.33333333, 0.5       , 0.66666667, 0.83333333])"
      ]
     },
     "execution_count": 52,
     "metadata": {},
     "output_type": "execute_result"
    }
   ],
   "source": [
    "V"
   ]
  },
  {
   "cell_type": "code",
   "execution_count": 55,
   "id": "a89706e4",
   "metadata": {},
   "outputs": [
    {
     "data": {
      "text/plain": [
       "array([0.16666667, 0.33333333, 0.5       , 0.66666667, 0.83333333])"
      ]
     },
     "execution_count": 55,
     "metadata": {},
     "output_type": "execute_result"
    }
   ],
   "source": [
    "V = np.array(\n",
    "    (0, 0, 0, 0, 0), dtype=float\n",
    ")\n",
    "\n",
    "r = np.array(\n",
    "    (0, 0, 0, 0, 1), \n",
    ")\n",
    "\n",
    "for i in range(100):\n",
    "    V[4] = .5*(r[4] + V[3])\n",
    "    V[3] = .5*(V[2] + V[4])\n",
    "    V[2] = .5*(V[1] + V[3])\n",
    "    V[1] = .5*(V[0] + V[2])\n",
    "    V[0] = .5*(r[0] + V[1])\n",
    "V"
   ]
  },
  {
   "cell_type": "code",
   "execution_count": null,
   "id": "3d7b2aef",
   "metadata": {},
   "outputs": [],
   "source": []
  },
  {
   "cell_type": "code",
   "execution_count": null,
   "id": "b9654a65",
   "metadata": {},
   "outputs": [],
   "source": []
  },
  {
   "cell_type": "code",
   "execution_count": null,
   "id": "003b568e",
   "metadata": {},
   "outputs": [],
   "source": []
  },
  {
   "cell_type": "code",
   "execution_count": null,
   "id": "6f68edd6",
   "metadata": {},
   "outputs": [],
   "source": []
  },
  {
   "cell_type": "code",
   "execution_count": null,
   "id": "9a47c571",
   "metadata": {},
   "outputs": [],
   "source": []
  },
  {
   "cell_type": "code",
   "execution_count": null,
   "id": "0512242a",
   "metadata": {},
   "outputs": [],
   "source": []
  },
  {
   "cell_type": "code",
   "execution_count": null,
   "id": "30f74378",
   "metadata": {},
   "outputs": [],
   "source": []
  },
  {
   "cell_type": "code",
   "execution_count": null,
   "id": "3e0e8039",
   "metadata": {},
   "outputs": [],
   "source": []
  }
 ],
 "metadata": {
  "kernelspec": {
   "display_name": "Python 3 (ipykernel)",
   "language": "python",
   "name": "python3"
  },
  "language_info": {
   "codemirror_mode": {
    "name": "ipython",
    "version": 3
   },
   "file_extension": ".py",
   "mimetype": "text/x-python",
   "name": "python",
   "nbconvert_exporter": "python",
   "pygments_lexer": "ipython3",
   "version": "3.10.12"
  }
 },
 "nbformat": 4,
 "nbformat_minor": 5
}
